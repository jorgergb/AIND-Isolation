{
 "cells": [
  {
   "cell_type": "markdown",
   "metadata": {
    "deletable": true,
    "editable": true
   },
   "source": [
    "Heuristic Analysis  \n",
    "======\n",
    "### AIND-Isolation\n"
   ]
  },
  {
   "cell_type": "markdown",
   "metadata": {
    "deletable": true,
    "editable": true
   },
   "source": [
    "\n",
    "Heuristic 1\n",
    "======\n",
    "**Improved Score**\n",
    "\n",
    "**own_moves** = Moves of first player  \n",
    "**opp_moves** = Moves of opponent player\n"
   ]
  },
  {
   "cell_type": "code",
   "execution_count": null,
   "metadata": {
    "collapsed": true,
    "deletable": true,
    "editable": true
   },
   "outputs": [],
   "source": [
    "    if game.is_loser(player):\n",
    "        return float(\"-inf\")\n",
    "\n",
    "    if game.is_winner(player):\n",
    "        return float(\"inf\")\n",
    "\n",
    "    own_moves = len(game.get_legal_moves(player))\n",
    "    opp_moves = len(game.get_legal_moves(game.get_opponent(player)))\n",
    "    return float(own_moves - opp_moves)"
   ]
  },
  {
   "cell_type": "markdown",
   "metadata": {
    "deletable": true,
    "editable": true
   },
   "source": [
    "This is the heuristic given in the lectures. It outputs \"a score equal to the difference in the number of moves available to the two players\". As long as the number returned is positive, we will have a beter chance of winning."
   ]
  },
  {
   "cell_type": "markdown",
   "metadata": {},
   "source": [
    "Heuristic 2\n",
    "======\n",
    "** Custom Score 1**\n",
    "\n",
    "**opponent** = opponent player  \n",
    "**my_moves** = moves of the first player  \n",
    "**opponent_moves** = moves of the opponent player  \n",
    "\n"
   ]
  },
  {
   "cell_type": "code",
   "execution_count": null,
   "metadata": {
    "collapsed": true
   },
   "outputs": [],
   "source": [
    "opponent = game.get_opponent(player)  \n",
    "my_moves = len(game.get_legal_moves(player))  \n",
    "opponent_moves = len(game.get_legal_moves(opponent))  \n",
    "\n",
    "h1 = float(my_moves - 2*opponent_moves)"
   ]
  },
  {
   "cell_type": "markdown",
   "metadata": {},
   "source": [
    "This heuristic is the one mentioned in the lectures. It is meant to be a more aggressive strategy, by giving more weight to the opponent moves, so we are always chasing the opponent."
   ]
  },
  {
   "cell_type": "markdown",
   "metadata": {},
   "source": [
    "Heuristic 3\n",
    "======\n",
    "\n",
    "**Custom Score 2**  \n",
    "\n",
    "**opponent** = opponent player  \n",
    "**my_moves** = moves of the first player  \n",
    "**opponent_moves** = moves of the opponent player  \n",
    "**agg_factor** = factor that will help us lower or increase aggressiveness  \n",
    "\n"
   ]
  },
  {
   "cell_type": "code",
   "execution_count": null,
   "metadata": {
    "collapsed": true
   },
   "outputs": [],
   "source": [
    "    opponent = game.get_opponent(player)\n",
    "    my_moves = len(game.get_legal_moves(player))\n",
    "    opponent_moves = len(game.get_legal_moves(opponent))\n",
    "    agg_factor = 1\n",
    "\n",
    "    if my_moves-opponent_moves<=0:\n",
    "        agg_factor = 3\n",
    "    else:\n",
    "        agg_factor = 1\n",
    "\n",
    "    h2 = float(my_moves - agg_factor*opponent_moves)"
   ]
  },
  {
   "cell_type": "markdown",
   "metadata": {},
   "source": [
    "This heuristic is meant to balance aggressiveness. If we are loosing, we will be more aggressive by incrementing opponent moves by 3. If we are winning, we will keep playing normally"
   ]
  },
  {
   "cell_type": "markdown",
   "metadata": {},
   "source": [
    "Heuristic 4\n",
    "======\n",
    "\n",
    "**Custom Score 3**  \n",
    "\n",
    "**opponent** = opponent player  \n",
    "**my_moves** = moves of the first player  \n",
    "**opponent_moves** = moves of the opponent player  \n",
    "**height** = center position   \n",
    "**width** = center position  \n",
    "**posx** = player location on x axis  \n",
    "**posy** = player location on y axis  \n",
    "**center** = center of the first player  \n",
    "**center_opp** = center of the opponent player  \n"
   ]
  },
  {
   "cell_type": "code",
   "execution_count": null,
   "metadata": {
    "collapsed": true
   },
   "outputs": [],
   "source": [
    "    opponent = game.get_opponent(player)\n",
    "    \n",
    "    height = game.height/2\n",
    "    width  = game.width/2\n",
    "\n",
    "    posx, posy = game.get_player_location(player)\n",
    "    posx_o, posy_o = game.get_player_location(opponent)\n",
    "\n",
    "    center = abs(height-posy)+abs(width-posx)\n",
    "    center_opp =  abs(height-posy_o)+abs(width-posx_o)\n",
    "    my_moves = len(game.get_legal_moves(player))\n",
    "    opponent_moves = len(game.get_legal_moves(opponent))\n",
    "\n",
    "    h3 = float((center*my_moves)-(center_opp*opponent_moves))"
   ]
  },
  {
   "cell_type": "markdown",
   "metadata": {},
   "source": [
    "This heuristic is taking into account how far each of the players are from the center. If we are near the center, we will play aggressively"
   ]
  },
  {
   "cell_type": "markdown",
   "metadata": {},
   "source": [
    "Results\n",
    "======\n",
    "\n",
    "First run:  "
   ]
  },
  {
   "cell_type": "raw",
   "metadata": {
    "collapsed": true,
    "deletable": true,
    "editable": true
   },
   "source": [
    "                        *************************\n",
    "                             Playing Matches\n",
    "                        *************************\n",
    "\n",
    " Match #   Opponent    AB_Improved   AB_Custom   AB_Custom_2  AB_Custom_3\n",
    "                        Won | Lost   Won | Lost   Won | Lost   Won | Lost\n",
    "    1       Random       8  |   2     3  |   7     6  |   4     9  |   1\n",
    "    2       MM_Open      5  |   5     3  |   7     5  |   5     7  |   3\n",
    "    3      MM_Center    10  |   0     1  |   9     6  |   4     9  |   1\n",
    "    4     MM_Improved    8  |   2     2  |   8     4  |   6     7  |   3\n",
    "    5       AB_Open      6  |   4     2  |   8     6  |   4     4  |   6\n",
    "    6      AB_Center     4  |   6     1  |   9     4  |   6     6  |   4\n",
    "    7     AB_Improved    5  |   5     1  |   9     5  |   5     6  |   4\n",
    "--------------------------------------------------------------------------\n",
    "           Win Rate:      65.7%        18.6%        51.4%        68.6%"
   ]
  },
  {
   "cell_type": "markdown",
   "metadata": {},
   "source": [
    "Second run:  "
   ]
  },
  {
   "cell_type": "raw",
   "metadata": {},
   "source": [
    "                        *************************\n",
    "                             Playing Matches\n",
    "                        *************************\n",
    "\n",
    " Match #   Opponent    AB_Improved   AB_Custom   AB_Custom_2  AB_Custom_3\n",
    "                        Won | Lost   Won | Lost   Won | Lost   Won | Lost\n",
    "    1       Random      18  |   2     7  |  13    13  |   7    18  |   2\n",
    "    2       MM_Open     18  |   2     3  |  17    11  |   9    15  |   5\n",
    "    3      MM_Center    16  |   4     4  |  16     7  |  13    16  |   4\n",
    "    4     MM_Improved   17  |   3     2  |  18     6  |  14    14  |   6\n",
    "    5       AB_Open     13  |   7     2  |  18    10  |  10     9  |  11\n",
    "    6      AB_Center    11  |   9     7  |  13     8  |  12     8  |  12\n",
    "    7     AB_Improved   10  |  10     2  |  18     4  |  16    11  |   9\n",
    "--------------------------------------------------------------------------\n",
    "           Win Rate:      73.6%        19.3%        42.1%        65.0%"
   ]
  },
  {
   "cell_type": "markdown",
   "metadata": {},
   "source": [
    "Comparing each of the custom heuristics to the AB_Improved, we got:  \n",
    "    - Being aggressive the whole time doesn't benefit us at all, we lose most of the time.  \n",
    "    - Being aggressive just in certain parts of the game, is a better approach, but it still doesn't get us to the result of just calculating remaining moves from AB_Improved  \n",
    "    - The third approach, and the one recommended, is the one that takes into account how far are the players in the board, playing near the center get us a much better result, as shown by the tests, we got close to the AB_Improved and even got a better result in the first run."
   ]
  },
  {
   "cell_type": "code",
   "execution_count": null,
   "metadata": {
    "collapsed": true
   },
   "outputs": [],
   "source": []
  }
 ],
 "metadata": {
  "kernelspec": {
   "display_name": "Python 3",
   "language": "python",
   "name": "python3"
  },
  "language_info": {
   "codemirror_mode": {
    "name": "ipython",
    "version": 3
   },
   "file_extension": ".py",
   "mimetype": "text/x-python",
   "name": "python",
   "nbconvert_exporter": "python",
   "pygments_lexer": "ipython3",
   "version": "3.6.0"
  }
 },
 "nbformat": 4,
 "nbformat_minor": 2
}
